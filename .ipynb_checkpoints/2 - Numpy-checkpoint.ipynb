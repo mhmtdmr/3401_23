{
 "cells": [
  {
   "cell_type": "code",
   "execution_count": 1,
   "id": "17ed6e17",
   "metadata": {},
   "outputs": [],
   "source": [
    "import numpy as np"
   ]
  },
  {
   "cell_type": "code",
   "execution_count": 2,
   "id": "742f7161",
   "metadata": {},
   "outputs": [
    {
     "name": "stdout",
     "output_type": "stream",
     "text": [
      "[70 33 96 45 10 26]\n",
      "[91 52 44 40 99 16]\n"
     ]
    }
   ],
   "source": [
    "numbers1 = np.random.randint(10,100,6)\n",
    "numbers2 = np.random.randint(10,100,6)\n",
    "print(numbers1)\n",
    "print(numbers2)"
   ]
  },
  {
   "cell_type": "code",
   "execution_count": 3,
   "id": "4c3fc6a1",
   "metadata": {},
   "outputs": [
    {
     "name": "stdout",
     "output_type": "stream",
     "text": [
      "[161  85 140  85 109  42]\n"
     ]
    }
   ],
   "source": [
    "sum_of_numbers = numbers1 + numbers2\n",
    "print(sum_of_numbers)"
   ]
  },
  {
   "cell_type": "code",
   "execution_count": 4,
   "id": "114ce1c7",
   "metadata": {},
   "outputs": [
    {
     "name": "stdout",
     "output_type": "stream",
     "text": [
      "[171  95 150  95 119  52]\n"
     ]
    }
   ],
   "source": [
    "sum_of_numbers = sum_of_numbers + 10\n",
    "print(sum_of_numbers)"
   ]
  },
  {
   "cell_type": "code",
   "execution_count": 5,
   "id": "6385d3a2",
   "metadata": {},
   "outputs": [
    {
     "name": "stdout",
     "output_type": "stream",
     "text": [
      "[ 0.97659087  0.68326171 -0.71487643  0.68326171 -0.3714041   0.98662759]\n"
     ]
    }
   ],
   "source": [
    "sin_of_sums = np.sin(sum_of_numbers)\n",
    "print(sin_of_sums)"
   ]
  },
  {
   "cell_type": "code",
   "execution_count": 8,
   "id": "03c0d4a9",
   "metadata": {},
   "outputs": [
    {
     "name": "stdout",
     "output_type": "stream",
     "text": [
      "[ 0.21510527  0.73017356  0.69925081  0.73017356  0.92847132 -0.16299078]\n"
     ]
    }
   ],
   "source": [
    "cos_of_sums = np.cos(sum_of_numbers)\n",
    "print(cos_of_sums)"
   ]
  },
  {
   "cell_type": "code",
   "execution_count": 9,
   "id": "7b2de354",
   "metadata": {},
   "outputs": [
    {
     "name": "stdout",
     "output_type": "stream",
     "text": [
      "[5.14166356 4.55387689 5.01063529 4.55387689 4.77912349 3.95124372]\n"
     ]
    }
   ],
   "source": [
    "log_of_sums = np.log(sum_of_numbers)\n",
    "print(log_of_sums)"
   ]
  },
  {
   "cell_type": "code",
   "execution_count": 11,
   "id": "1970ac75",
   "metadata": {},
   "outputs": [],
   "source": [
    "multi_numbers_1 = numbers1.reshape(2,3)\n",
    "multi_numbers_2 = numbers2.reshape(2,3)"
   ]
  },
  {
   "cell_type": "code",
   "execution_count": 12,
   "id": "39664ddd",
   "metadata": {},
   "outputs": [
    {
     "name": "stdout",
     "output_type": "stream",
     "text": [
      "[[70 33 96]\n",
      " [45 10 26]]\n",
      "[[91 52 44]\n",
      " [40 99 16]]\n"
     ]
    }
   ],
   "source": [
    "print(multi_numbers_1)\n",
    "print(multi_numbers_2)"
   ]
  },
  {
   "cell_type": "code",
   "execution_count": 14,
   "id": "2bdb5471",
   "metadata": {},
   "outputs": [
    {
     "name": "stdout",
     "output_type": "stream",
     "text": [
      "[[70 33 96]\n",
      " [45 10 26]\n",
      " [91 52 44]\n",
      " [40 99 16]]\n"
     ]
    }
   ],
   "source": [
    "vertical = np.vstack((multi_numbers_1,multi_numbers_2))\n",
    "print(vertical)"
   ]
  },
  {
   "cell_type": "code",
   "execution_count": 15,
   "id": "7cc2e410",
   "metadata": {},
   "outputs": [
    {
     "name": "stdout",
     "output_type": "stream",
     "text": [
      "[[70 33 96 91 52 44]\n",
      " [45 10 26 40 99 16]]\n"
     ]
    }
   ],
   "source": [
    "horizontal = np.hstack((multi_numbers_1,multi_numbers_2))\n",
    "print(horizontal)"
   ]
  },
  {
   "cell_type": "code",
   "execution_count": 16,
   "id": "02ffdfbc",
   "metadata": {},
   "outputs": [
    {
     "name": "stdout",
     "output_type": "stream",
     "text": [
      "[[[70 91]\n",
      "  [33 52]\n",
      "  [96 44]]\n",
      "\n",
      " [[45 40]\n",
      "  [10 99]\n",
      "  [26 16]]]\n"
     ]
    }
   ],
   "source": [
    "withnewdimension = np.dstack((multi_numbers_1,multi_numbers_2))\n",
    "print(withnewdimension)"
   ]
  },
  {
   "cell_type": "code",
   "execution_count": 17,
   "id": "debad937",
   "metadata": {},
   "outputs": [
    {
     "name": "stdout",
     "output_type": "stream",
     "text": [
      "[70 33 96 45 10 26]\n"
     ]
    }
   ],
   "source": [
    "print(numbers1)"
   ]
  },
  {
   "cell_type": "code",
   "execution_count": 18,
   "id": "a52ac71c",
   "metadata": {},
   "outputs": [
    {
     "name": "stdout",
     "output_type": "stream",
     "text": [
      "[33 45]\n"
     ]
    }
   ],
   "source": [
    "odds = numbers1[numbers1%2 == 1]\n",
    "print(odds)"
   ]
  },
  {
   "cell_type": "code",
   "execution_count": 19,
   "id": "2fa20af1",
   "metadata": {},
   "outputs": [
    {
     "name": "stdout",
     "output_type": "stream",
     "text": [
      "[70 96 10 26]\n"
     ]
    }
   ],
   "source": [
    "evens = numbers1[numbers1%2 == 0]\n",
    "print(evens)"
   ]
  },
  {
   "cell_type": "code",
   "execution_count": 20,
   "id": "722a3911",
   "metadata": {},
   "outputs": [
    {
     "name": "stdout",
     "output_type": "stream",
     "text": [
      "[70 33 96 45]\n"
     ]
    }
   ],
   "source": [
    "bigger_than_30 = numbers1[numbers1>30]\n",
    "print(bigger_than_30)"
   ]
  },
  {
   "cell_type": "code",
   "execution_count": 21,
   "id": "c3d872c3",
   "metadata": {},
   "outputs": [
    {
     "name": "stdout",
     "output_type": "stream",
     "text": [
      "[70 33 96 45 10 26]\n"
     ]
    }
   ],
   "source": [
    "print(numbers1)"
   ]
  },
  {
   "cell_type": "code",
   "execution_count": 22,
   "id": "92011949",
   "metadata": {},
   "outputs": [
    {
     "name": "stdout",
     "output_type": "stream",
     "text": [
      "[70 33 96 45 10 26]\n"
     ]
    }
   ],
   "source": [
    "# dizinin tamamını yazdır.\n",
    "print(numbers1[::])"
   ]
  },
  {
   "cell_type": "code",
   "execution_count": 25,
   "id": "5dcdedb0",
   "metadata": {},
   "outputs": [
    {
     "name": "stdout",
     "output_type": "stream",
     "text": [
      "[70 33 96]\n"
     ]
    }
   ],
   "source": [
    "# dizinin ilk 3 elemanını yazdır\n",
    "print(numbers1[:3])"
   ]
  },
  {
   "cell_type": "code",
   "execution_count": 29,
   "id": "b0cd0900",
   "metadata": {},
   "outputs": [
    {
     "name": "stdout",
     "output_type": "stream",
     "text": [
      "[26 10 45 96 33 70]\n"
     ]
    }
   ],
   "source": [
    "# dizi elemanlarını tersten yazdır.\n",
    "print(numbers1[::-1])"
   ]
  },
  {
   "cell_type": "code",
   "execution_count": 32,
   "id": "210aebee",
   "metadata": {},
   "outputs": [
    {
     "name": "stdout",
     "output_type": "stream",
     "text": [
      "[[70 33 96]\n",
      " [45 10 26]]\n"
     ]
    }
   ],
   "source": [
    "numbers1 = numbers1.reshape(2,3)\n",
    "print(numbers1)"
   ]
  },
  {
   "cell_type": "code",
   "execution_count": 45,
   "id": "9e4ad06d",
   "metadata": {},
   "outputs": [
    {
     "data": {
      "text/plain": [
       "array([70, 33, 96])"
      ]
     },
     "execution_count": 45,
     "metadata": {},
     "output_type": "execute_result"
    }
   ],
   "source": [
    "# 0. satırı yaz\n",
    "numbers1[0]"
   ]
  },
  {
   "cell_type": "code",
   "execution_count": 47,
   "id": "9e72c1c9",
   "metadata": {},
   "outputs": [
    {
     "data": {
      "text/plain": [
       "70"
      ]
     },
     "execution_count": 47,
     "metadata": {},
     "output_type": "execute_result"
    }
   ],
   "source": [
    "# 0. satırı 0. sütunu yaz\n",
    "numbers1[0,0]"
   ]
  },
  {
   "cell_type": "code",
   "execution_count": 48,
   "id": "904c2a52",
   "metadata": {},
   "outputs": [
    {
     "data": {
      "text/plain": [
       "array([96, 26])"
      ]
     },
     "execution_count": 48,
     "metadata": {},
     "output_type": "execute_result"
    }
   ],
   "source": [
    "# 2 indisli kolonu yaz.\n",
    "numbers1[:,2]"
   ]
  },
  {
   "cell_type": "code",
   "execution_count": 51,
   "id": "cd8d9592",
   "metadata": {},
   "outputs": [
    {
     "name": "stdout",
     "output_type": "stream",
     "text": [
      "[[10 26]]\n"
     ]
    }
   ],
   "source": [
    "# -1. yani sondaki satırın. 1-3 aralığındaki koloınlarını etir. 3 dahil değil.!\n",
    "print(numbers1[-1:,1:3])"
   ]
  },
  {
   "cell_type": "code",
   "execution_count": null,
   "id": "b50ce4fc",
   "metadata": {},
   "outputs": [],
   "source": []
  }
 ],
 "metadata": {
  "kernelspec": {
   "display_name": "Python 3 (ipykernel)",
   "language": "python",
   "name": "python3"
  },
  "language_info": {
   "codemirror_mode": {
    "name": "ipython",
    "version": 3
   },
   "file_extension": ".py",
   "mimetype": "text/x-python",
   "name": "python",
   "nbconvert_exporter": "python",
   "pygments_lexer": "ipython3",
   "version": "3.10.4"
  }
 },
 "nbformat": 4,
 "nbformat_minor": 5
}
