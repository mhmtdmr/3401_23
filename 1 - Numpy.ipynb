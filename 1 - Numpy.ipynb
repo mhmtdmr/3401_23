{
 "cells": [
  {
   "cell_type": "code",
   "execution_count": 2,
   "id": "4e6ead41",
   "metadata": {},
   "outputs": [
    {
     "name": "stdout",
     "output_type": "stream",
     "text": [
      "Hello Jupyter\n"
     ]
    }
   ],
   "source": [
    "print(\"Hello Jupyter\")"
   ]
  },
  {
   "cell_type": "code",
   "execution_count": 5,
   "id": "79e24561",
   "metadata": {},
   "outputs": [],
   "source": [
    "import numpy as np"
   ]
  },
  {
   "cell_type": "code",
   "execution_count": 4,
   "id": "f52791b9",
   "metadata": {},
   "outputs": [],
   "source": [
    "py_list = [1,2,3,4,5,6,7,8,9]"
   ]
  },
  {
   "cell_type": "code",
   "execution_count": 6,
   "id": "5fefce1b",
   "metadata": {},
   "outputs": [],
   "source": [
    "#numpy array\n",
    "np_array = np.array(py_list)"
   ]
  },
  {
   "cell_type": "code",
   "execution_count": 7,
   "id": "5f85bb9c",
   "metadata": {},
   "outputs": [
    {
     "name": "stdout",
     "output_type": "stream",
     "text": [
      "<class 'numpy.ndarray'>\n"
     ]
    }
   ],
   "source": [
    "print(type(np_array))"
   ]
  },
  {
   "cell_type": "code",
   "execution_count": 8,
   "id": "5464b62b",
   "metadata": {},
   "outputs": [
    {
     "name": "stdout",
     "output_type": "stream",
     "text": [
      "[1 2 3 4 5 6 7 8 9]\n"
     ]
    }
   ],
   "source": [
    "print(np_array)"
   ]
  },
  {
   "cell_type": "code",
   "execution_count": 15,
   "id": "e2c35685",
   "metadata": {},
   "outputs": [],
   "source": [
    "np_array = np_array.reshape(3,3)"
   ]
  },
  {
   "cell_type": "code",
   "execution_count": 16,
   "id": "6427a102",
   "metadata": {},
   "outputs": [
    {
     "name": "stdout",
     "output_type": "stream",
     "text": [
      "[[1 2 3]\n",
      " [4 5 6]\n",
      " [7 8 9]]\n"
     ]
    }
   ],
   "source": [
    "print(np_array)"
   ]
  },
  {
   "cell_type": "code",
   "execution_count": 17,
   "id": "106aabbe",
   "metadata": {},
   "outputs": [
    {
     "name": "stdout",
     "output_type": "stream",
     "text": [
      "[1 2 3 4 5 6 7 8 9]\n"
     ]
    }
   ],
   "source": [
    "sayilar = np.arange(1,10)\n",
    "print(sayilar)"
   ]
  },
  {
   "cell_type": "code",
   "execution_count": 22,
   "id": "5e2cc4f5",
   "metadata": {},
   "outputs": [
    {
     "name": "stdout",
     "output_type": "stream",
     "text": [
      "[[  5  10  15  20]\n",
      " [ 25  30  35  40]\n",
      " [ 45  50  55  60]\n",
      " [ 65  70  75  80]\n",
      " [ 85  90  95 100]]\n"
     ]
    }
   ],
   "source": [
    "sayilar = np.arange(5,101,5)\n",
    "sayilar = sayilar.reshape(5,4)\n",
    "print(sayilar)"
   ]
  },
  {
   "cell_type": "code",
   "execution_count": 25,
   "id": "6a005d3c",
   "metadata": {},
   "outputs": [],
   "source": [
    "sifirlar = np.zeros(10)"
   ]
  },
  {
   "cell_type": "code",
   "execution_count": 26,
   "id": "ca1dc6af",
   "metadata": {},
   "outputs": [
    {
     "name": "stdout",
     "output_type": "stream",
     "text": [
      "[0. 0. 0. 0. 0. 0. 0. 0. 0. 0.]\n"
     ]
    }
   ],
   "source": [
    "print(sifirlar)"
   ]
  },
  {
   "cell_type": "code",
   "execution_count": 27,
   "id": "03a70219",
   "metadata": {},
   "outputs": [],
   "source": [
    "birler = np.ones(10)"
   ]
  },
  {
   "cell_type": "code",
   "execution_count": 28,
   "id": "1d16d758",
   "metadata": {},
   "outputs": [
    {
     "name": "stdout",
     "output_type": "stream",
     "text": [
      "[1. 1. 1. 1. 1. 1. 1. 1. 1. 1.]\n"
     ]
    }
   ],
   "source": [
    "print(birler)"
   ]
  },
  {
   "cell_type": "code",
   "execution_count": 31,
   "id": "e046ed4b",
   "metadata": {},
   "outputs": [
    {
     "name": "stdout",
     "output_type": "stream",
     "text": [
      "[  0.  25.  50.  75. 100.]\n"
     ]
    }
   ],
   "source": [
    "araliktakiler = np.linspace(0,100,5)\n",
    "print(araliktakiler)"
   ]
  },
  {
   "cell_type": "code",
   "execution_count": 37,
   "id": "86d51fac",
   "metadata": {},
   "outputs": [],
   "source": [
    "rastgele_sayilar = np.random.randint(0,100)"
   ]
  },
  {
   "cell_type": "code",
   "execution_count": 38,
   "id": "5bed4fea",
   "metadata": {},
   "outputs": [
    {
     "name": "stdout",
     "output_type": "stream",
     "text": [
      "43\n"
     ]
    }
   ],
   "source": [
    "print(rastgele_sayilar)"
   ]
  },
  {
   "cell_type": "code",
   "execution_count": 40,
   "id": "d083cb4c",
   "metadata": {},
   "outputs": [
    {
     "name": "stdout",
     "output_type": "stream",
     "text": [
      "[0.17915609 0.52713833 0.9496801  0.2986889  0.10316875]\n"
     ]
    }
   ],
   "source": [
    "ondalikli = np.random.rand(5)\n",
    "print(ondalikli)"
   ]
  },
  {
   "cell_type": "code",
   "execution_count": 41,
   "id": "6a876ba5",
   "metadata": {},
   "outputs": [
    {
     "name": "stdout",
     "output_type": "stream",
     "text": [
      "[[  5  10  15  20]\n",
      " [ 25  30  35  40]\n",
      " [ 45  50  55  60]\n",
      " [ 65  70  75  80]\n",
      " [ 85  90  95 100]]\n"
     ]
    }
   ],
   "source": [
    "print(sayilar)"
   ]
  },
  {
   "cell_type": "code",
   "execution_count": 44,
   "id": "8e1b53b3",
   "metadata": {},
   "outputs": [
    {
     "name": "stdout",
     "output_type": "stream",
     "text": [
      "[225 250 275 300]\n"
     ]
    }
   ],
   "source": [
    "sutun_toplamlari = sayilar.sum(axis=0)\n",
    "print(sutun_toplamlari)"
   ]
  },
  {
   "cell_type": "code",
   "execution_count": 45,
   "id": "07b2553b",
   "metadata": {},
   "outputs": [
    {
     "name": "stdout",
     "output_type": "stream",
     "text": [
      "[ 50 130 210 290 370]\n"
     ]
    }
   ],
   "source": [
    "satilar_toplamlari = sayilar.sum(axis=1)\n",
    "print(satilar_toplamlari)"
   ]
  },
  {
   "cell_type": "code",
   "execution_count": 50,
   "id": "d2463ffb",
   "metadata": {},
   "outputs": [
    {
     "name": "stdout",
     "output_type": "stream",
     "text": [
      "100\n"
     ]
    }
   ],
   "source": [
    "print(sayilar.max())   #Listedeki en büyük sayı"
   ]
  },
  {
   "cell_type": "code",
   "execution_count": 51,
   "id": "13ce553c",
   "metadata": {},
   "outputs": [
    {
     "name": "stdout",
     "output_type": "stream",
     "text": [
      "52.5\n"
     ]
    }
   ],
   "source": [
    "print(sayilar.mean())   #Listedeki sayıların ortalaması"
   ]
  },
  {
   "cell_type": "code",
   "execution_count": 52,
   "id": "59ee88d8",
   "metadata": {},
   "outputs": [
    {
     "name": "stdout",
     "output_type": "stream",
     "text": [
      "19\n"
     ]
    }
   ],
   "source": [
    "print(sayilar.argmax())   #Listedeki en büyük sayının indeksi"
   ]
  },
  {
   "cell_type": "code",
   "execution_count": 53,
   "id": "04f8b3e8",
   "metadata": {},
   "outputs": [
    {
     "name": "stdout",
     "output_type": "stream",
     "text": [
      "0\n"
     ]
    }
   ],
   "source": [
    "print(sayilar.argmin())   #Listedeki en küçük sayının indeksi"
   ]
  },
  {
   "cell_type": "code",
   "execution_count": null,
   "id": "fcab44e0",
   "metadata": {},
   "outputs": [],
   "source": []
  }
 ],
 "metadata": {
  "kernelspec": {
   "display_name": "Python 3 (ipykernel)",
   "language": "python",
   "name": "python3"
  },
  "language_info": {
   "codemirror_mode": {
    "name": "ipython",
    "version": 3
   },
   "file_extension": ".py",
   "mimetype": "text/x-python",
   "name": "python",
   "nbconvert_exporter": "python",
   "pygments_lexer": "ipython3",
   "version": "3.10.4"
  }
 },
 "nbformat": 4,
 "nbformat_minor": 5
}
