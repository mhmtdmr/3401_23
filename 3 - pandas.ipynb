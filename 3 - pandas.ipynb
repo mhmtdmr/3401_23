{
 "cells": [
  {
   "cell_type": "code",
   "execution_count": 2,
   "id": "661a88b6",
   "metadata": {},
   "outputs": [],
   "source": [
    "import pandas as pd\n",
    "import numpy as np"
   ]
  },
  {
   "cell_type": "code",
   "execution_count": 3,
   "id": "dab00148",
   "metadata": {},
   "outputs": [],
   "source": [
    "letters = [\"a\",\"b\",\"c\",\"d\",\"e\"]\n",
    "numbers = [10,20,30,40,50]"
   ]
  },
  {
   "cell_type": "code",
   "execution_count": 4,
   "id": "65afc1d7",
   "metadata": {},
   "outputs": [
    {
     "name": "stdout",
     "output_type": "stream",
     "text": [
      "0    10\n",
      "1    20\n",
      "2    30\n",
      "3    40\n",
      "4    50\n",
      "dtype: int64\n"
     ]
    }
   ],
   "source": [
    "pd_series1 = pd.Series(numbers)\n",
    "print(pd_series1)"
   ]
  },
  {
   "cell_type": "code",
   "execution_count": 5,
   "id": "20ef7352",
   "metadata": {},
   "outputs": [
    {
     "name": "stdout",
     "output_type": "stream",
     "text": [
      "0    a\n",
      "1    b\n",
      "2    c\n",
      "3    d\n",
      "4    e\n",
      "dtype: object\n"
     ]
    }
   ],
   "source": [
    "pd_series2 = pd.Series(letters)\n",
    "print(pd_series2)"
   ]
  },
  {
   "cell_type": "code",
   "execution_count": 6,
   "id": "7ce10146",
   "metadata": {},
   "outputs": [
    {
     "name": "stdout",
     "output_type": "stream",
     "text": [
      "10    a\n",
      "20    b\n",
      "30    c\n",
      "40    d\n",
      "50    e\n",
      "dtype: object\n"
     ]
    }
   ],
   "source": [
    "pd_series3 = pd.Series(letters,index=numbers)\n",
    "print(pd_series3)"
   ]
  },
  {
   "cell_type": "code",
   "execution_count": 7,
   "id": "37157b8d",
   "metadata": {},
   "outputs": [
    {
     "name": "stdout",
     "output_type": "stream",
     "text": [
      "0    27\n",
      "dtype: int64\n"
     ]
    }
   ],
   "source": [
    "pd_series4 = pd.Series(27)\n",
    "print(pd_series4)"
   ]
  },
  {
   "cell_type": "code",
   "execution_count": 8,
   "id": "678355e7",
   "metadata": {},
   "outputs": [
    {
     "name": "stdout",
     "output_type": "stream",
     "text": [
      "1    27\n",
      "2    27\n",
      "3    27\n",
      "4    27\n",
      "5    27\n",
      "dtype: int64\n"
     ]
    }
   ],
   "source": [
    "pd_series5 = pd.Series(27,index=[1,2,3,4,5])\n",
    "print(pd_series5)"
   ]
  },
  {
   "cell_type": "code",
   "execution_count": 9,
   "id": "cd049ee3",
   "metadata": {},
   "outputs": [
    {
     "name": "stdout",
     "output_type": "stream",
     "text": [
      "Ahmet      100\n",
      "Mustafa     85\n",
      "Uğur       105\n",
      "Aysun       75\n",
      "dtype: int64\n"
     ]
    }
   ],
   "source": [
    "dictionary = {\"Ahmet\":100,\"Mustafa\":85,\"Uğur\":105,\"Aysun\":75}\n",
    "pd_series6 = pd.Series(dictionary)\n",
    "print(pd_series6)"
   ]
  },
  {
   "cell_type": "code",
   "execution_count": 15,
   "id": "51cd1cd7",
   "metadata": {},
   "outputs": [
    {
     "name": "stdout",
     "output_type": "stream",
     "text": [
      "1\n",
      "int64\n",
      "(4,)\n",
      "365\n",
      "75\n",
      "105\n",
      "91.25\n"
     ]
    }
   ],
   "source": [
    "print(pd_series6.ndim) # boyut sayısı\n",
    "print(pd_series6.dtype) # veri tipi\n",
    "print(pd_series6.shape) # kaça kaç\n",
    "print(pd_series6.sum()) # toplam\n",
    "print(pd_series6.min()) # en küçük değer\n",
    "print(pd_series6.max()) # en büyük değer\n",
    "print(pd_series6.mean()) # ortalama"
   ]
  },
  {
   "cell_type": "code",
   "execution_count": 22,
   "id": "e10735bc",
   "metadata": {},
   "outputs": [
    {
     "name": "stdout",
     "output_type": "stream",
     "text": [
      "0    1\n",
      "1    2\n",
      "2    3\n",
      "3    4\n",
      "4    5\n",
      "dtype: int64\n",
      "0     1\n",
      "1     4\n",
      "2     9\n",
      "3    16\n",
      "4    25\n",
      "dtype: int64\n",
      "0    1.000000\n",
      "1    1.414214\n",
      "2    1.732051\n",
      "3    2.000000\n",
      "4    2.236068\n",
      "dtype: float64\n",
      "0      1\n",
      "1     16\n",
      "2     81\n",
      "3    256\n",
      "4    625\n",
      "dtype: int64\n"
     ]
    }
   ],
   "source": [
    "pd_series7 = pd.Series([1,2,3,4,5])\n",
    "print(pd_series7) # listeyi yazdır.\n",
    "print(np.square(pd_series7)) # kareleri yazdır\n",
    "print(np.sqrt(pd_series7)) # karekökleri yazdır\n",
    "print(np.power(pd_series7,4)) # 4. kuvvetlerini yazdır"
   ]
  },
  {
   "cell_type": "code",
   "execution_count": 23,
   "id": "18e7cc45",
   "metadata": {},
   "outputs": [
    {
     "name": "stdout",
     "output_type": "stream",
     "text": [
      "270\n"
     ]
    }
   ],
   "source": [
    "opel2020 = pd.Series([145,45,35],[\"astra\",\"insignia\",\"mokka\"])\n",
    "opel2021 = pd.Series([125,55,55],[\"astra\",\"insignia\",\"mokka\"])\n",
    "\n",
    "total = opel2020 + opel2021\n",
    "print(total[\"astra\"])"
   ]
  },
  {
   "cell_type": "code",
   "execution_count": 24,
   "id": "35d16418",
   "metadata": {},
   "outputs": [
    {
     "name": "stdout",
     "output_type": "stream",
     "text": [
      "astra       145\n",
      "insignia     45\n",
      "mokka        35\n",
      "dtype: int64\n"
     ]
    }
   ],
   "source": [
    "print(opel2020)"
   ]
  },
  {
   "cell_type": "code",
   "execution_count": 30,
   "id": "8600660f",
   "metadata": {},
   "outputs": [
    {
     "data": {
      "text/html": [
       "<div>\n",
       "<style scoped>\n",
       "    .dataframe tbody tr th:only-of-type {\n",
       "        vertical-align: middle;\n",
       "    }\n",
       "\n",
       "    .dataframe tbody tr th {\n",
       "        vertical-align: top;\n",
       "    }\n",
       "\n",
       "    .dataframe thead th {\n",
       "        text-align: right;\n",
       "    }\n",
       "</style>\n",
       "<table border=\"1\" class=\"dataframe\">\n",
       "  <thead>\n",
       "    <tr style=\"text-align: right;\">\n",
       "      <th></th>\n",
       "      <th>Col1</th>\n",
       "      <th>Col2</th>\n",
       "      <th>Col3</th>\n",
       "    </tr>\n",
       "  </thead>\n",
       "  <tbody>\n",
       "    <tr>\n",
       "      <th>A</th>\n",
       "      <td>0.269696</td>\n",
       "      <td>-1.211775</td>\n",
       "      <td>1.340391</td>\n",
       "    </tr>\n",
       "    <tr>\n",
       "      <th>B</th>\n",
       "      <td>1.114861</td>\n",
       "      <td>-0.534181</td>\n",
       "      <td>2.319593</td>\n",
       "    </tr>\n",
       "    <tr>\n",
       "      <th>C</th>\n",
       "      <td>-0.212656</td>\n",
       "      <td>1.905034</td>\n",
       "      <td>0.086947</td>\n",
       "    </tr>\n",
       "  </tbody>\n",
       "</table>\n",
       "</div>"
      ],
      "text/plain": [
       "       Col1      Col2      Col3\n",
       "A  0.269696 -1.211775  1.340391\n",
       "B  1.114861 -0.534181  2.319593\n",
       "C -0.212656  1.905034  0.086947"
      ]
     },
     "execution_count": 30,
     "metadata": {},
     "output_type": "execute_result"
    }
   ],
   "source": [
    "from numpy.random import randn\n",
    "\n",
    "pd_df = pd.DataFrame(randn(3,3),index=[\"A\",\"B\",\"C\"],columns=[\"Col1\",\"Col2\",\"Col3\"])\n",
    "pd_df"
   ]
  },
  {
   "cell_type": "code",
   "execution_count": 31,
   "id": "27f4201c",
   "metadata": {},
   "outputs": [
    {
     "data": {
      "text/plain": [
       "A    0.269696\n",
       "B    1.114861\n",
       "C   -0.212656\n",
       "Name: Col1, dtype: float64"
      ]
     },
     "execution_count": 31,
     "metadata": {},
     "output_type": "execute_result"
    }
   ],
   "source": [
    "pd_df[\"Col1\"]"
   ]
  },
  {
   "cell_type": "code",
   "execution_count": 33,
   "id": "d499dbd4",
   "metadata": {},
   "outputs": [
    {
     "data": {
      "text/html": [
       "<div>\n",
       "<style scoped>\n",
       "    .dataframe tbody tr th:only-of-type {\n",
       "        vertical-align: middle;\n",
       "    }\n",
       "\n",
       "    .dataframe tbody tr th {\n",
       "        vertical-align: top;\n",
       "    }\n",
       "\n",
       "    .dataframe thead th {\n",
       "        text-align: right;\n",
       "    }\n",
       "</style>\n",
       "<table border=\"1\" class=\"dataframe\">\n",
       "  <thead>\n",
       "    <tr style=\"text-align: right;\">\n",
       "      <th></th>\n",
       "      <th>Col1</th>\n",
       "      <th>Col3</th>\n",
       "    </tr>\n",
       "  </thead>\n",
       "  <tbody>\n",
       "    <tr>\n",
       "      <th>A</th>\n",
       "      <td>0.269696</td>\n",
       "      <td>1.340391</td>\n",
       "    </tr>\n",
       "    <tr>\n",
       "      <th>B</th>\n",
       "      <td>1.114861</td>\n",
       "      <td>2.319593</td>\n",
       "    </tr>\n",
       "    <tr>\n",
       "      <th>C</th>\n",
       "      <td>-0.212656</td>\n",
       "      <td>0.086947</td>\n",
       "    </tr>\n",
       "  </tbody>\n",
       "</table>\n",
       "</div>"
      ],
      "text/plain": [
       "       Col1      Col3\n",
       "A  0.269696  1.340391\n",
       "B  1.114861  2.319593\n",
       "C -0.212656  0.086947"
      ]
     },
     "execution_count": 33,
     "metadata": {},
     "output_type": "execute_result"
    }
   ],
   "source": [
    "pd_df[[\"Col1\",\"Col3\"]]"
   ]
  },
  {
   "cell_type": "code",
   "execution_count": 35,
   "id": "d65ee9e0",
   "metadata": {},
   "outputs": [
    {
     "data": {
      "text/plain": [
       "Col1    0.269696\n",
       "Col2   -1.211775\n",
       "Col3    1.340391\n",
       "Name: A, dtype: float64"
      ]
     },
     "execution_count": 35,
     "metadata": {},
     "output_type": "execute_result"
    }
   ],
   "source": [
    "pd_df.loc[\"A\"]"
   ]
  },
  {
   "cell_type": "code",
   "execution_count": 36,
   "id": "d56de162",
   "metadata": {},
   "outputs": [
    {
     "data": {
      "text/html": [
       "<div>\n",
       "<style scoped>\n",
       "    .dataframe tbody tr th:only-of-type {\n",
       "        vertical-align: middle;\n",
       "    }\n",
       "\n",
       "    .dataframe tbody tr th {\n",
       "        vertical-align: top;\n",
       "    }\n",
       "\n",
       "    .dataframe thead th {\n",
       "        text-align: right;\n",
       "    }\n",
       "</style>\n",
       "<table border=\"1\" class=\"dataframe\">\n",
       "  <thead>\n",
       "    <tr style=\"text-align: right;\">\n",
       "      <th></th>\n",
       "      <th>Col1</th>\n",
       "      <th>Col2</th>\n",
       "      <th>Col3</th>\n",
       "    </tr>\n",
       "  </thead>\n",
       "  <tbody>\n",
       "    <tr>\n",
       "      <th>A</th>\n",
       "      <td>0.269696</td>\n",
       "      <td>-1.211775</td>\n",
       "      <td>1.340391</td>\n",
       "    </tr>\n",
       "    <tr>\n",
       "      <th>C</th>\n",
       "      <td>-0.212656</td>\n",
       "      <td>1.905034</td>\n",
       "      <td>0.086947</td>\n",
       "    </tr>\n",
       "  </tbody>\n",
       "</table>\n",
       "</div>"
      ],
      "text/plain": [
       "       Col1      Col2      Col3\n",
       "A  0.269696 -1.211775  1.340391\n",
       "C -0.212656  1.905034  0.086947"
      ]
     },
     "execution_count": 36,
     "metadata": {},
     "output_type": "execute_result"
    }
   ],
   "source": [
    "pd_df.loc[[\"A\",\"C\"]]"
   ]
  },
  {
   "cell_type": "code",
   "execution_count": 37,
   "id": "7df250c6",
   "metadata": {},
   "outputs": [
    {
     "data": {
      "text/html": [
       "<div>\n",
       "<style scoped>\n",
       "    .dataframe tbody tr th:only-of-type {\n",
       "        vertical-align: middle;\n",
       "    }\n",
       "\n",
       "    .dataframe tbody tr th {\n",
       "        vertical-align: top;\n",
       "    }\n",
       "\n",
       "    .dataframe thead th {\n",
       "        text-align: right;\n",
       "    }\n",
       "</style>\n",
       "<table border=\"1\" class=\"dataframe\">\n",
       "  <thead>\n",
       "    <tr style=\"text-align: right;\">\n",
       "      <th></th>\n",
       "      <th>Col1</th>\n",
       "      <th>Col2</th>\n",
       "      <th>Col3</th>\n",
       "    </tr>\n",
       "  </thead>\n",
       "  <tbody>\n",
       "    <tr>\n",
       "      <th>A</th>\n",
       "      <td>0.269696</td>\n",
       "      <td>-1.211775</td>\n",
       "      <td>1.340391</td>\n",
       "    </tr>\n",
       "    <tr>\n",
       "      <th>C</th>\n",
       "      <td>-0.212656</td>\n",
       "      <td>1.905034</td>\n",
       "      <td>0.086947</td>\n",
       "    </tr>\n",
       "  </tbody>\n",
       "</table>\n",
       "</div>"
      ],
      "text/plain": [
       "       Col1      Col2      Col3\n",
       "A  0.269696 -1.211775  1.340391\n",
       "C -0.212656  1.905034  0.086947"
      ]
     },
     "execution_count": 37,
     "metadata": {},
     "output_type": "execute_result"
    }
   ],
   "source": [
    "pd_df.loc[[True,False,True]]"
   ]
  },
  {
   "cell_type": "code",
   "execution_count": 48,
   "id": "4495f8eb",
   "metadata": {},
   "outputs": [
    {
     "data": {
      "text/html": [
       "<div>\n",
       "<style scoped>\n",
       "    .dataframe tbody tr th:only-of-type {\n",
       "        vertical-align: middle;\n",
       "    }\n",
       "\n",
       "    .dataframe tbody tr th {\n",
       "        vertical-align: top;\n",
       "    }\n",
       "\n",
       "    .dataframe thead th {\n",
       "        text-align: right;\n",
       "    }\n",
       "</style>\n",
       "<table border=\"1\" class=\"dataframe\">\n",
       "  <thead>\n",
       "    <tr style=\"text-align: right;\">\n",
       "      <th></th>\n",
       "      <th>Col1</th>\n",
       "      <th>Col3</th>\n",
       "    </tr>\n",
       "  </thead>\n",
       "  <tbody>\n",
       "    <tr>\n",
       "      <th>A</th>\n",
       "      <td>0.269696</td>\n",
       "      <td>1.340391</td>\n",
       "    </tr>\n",
       "    <tr>\n",
       "      <th>B</th>\n",
       "      <td>1.114861</td>\n",
       "      <td>2.319593</td>\n",
       "    </tr>\n",
       "    <tr>\n",
       "      <th>C</th>\n",
       "      <td>-0.212656</td>\n",
       "      <td>0.086947</td>\n",
       "    </tr>\n",
       "  </tbody>\n",
       "</table>\n",
       "</div>"
      ],
      "text/plain": [
       "       Col1      Col3\n",
       "A  0.269696  1.340391\n",
       "B  1.114861  2.319593\n",
       "C -0.212656  0.086947"
      ]
     },
     "execution_count": 48,
     "metadata": {},
     "output_type": "execute_result"
    }
   ],
   "source": [
    "pd_df.loc[:,[True,False,True]] # Col1 ve Col3 ü listele."
   ]
  },
  {
   "cell_type": "code",
   "execution_count": 57,
   "id": "cf60590e",
   "metadata": {},
   "outputs": [
    {
     "data": {
      "text/html": [
       "<div>\n",
       "<style scoped>\n",
       "    .dataframe tbody tr th:only-of-type {\n",
       "        vertical-align: middle;\n",
       "    }\n",
       "\n",
       "    .dataframe tbody tr th {\n",
       "        vertical-align: top;\n",
       "    }\n",
       "\n",
       "    .dataframe thead th {\n",
       "        text-align: right;\n",
       "    }\n",
       "</style>\n",
       "<table border=\"1\" class=\"dataframe\">\n",
       "  <thead>\n",
       "    <tr style=\"text-align: right;\">\n",
       "      <th></th>\n",
       "      <th>Col1</th>\n",
       "      <th>Col2</th>\n",
       "      <th>Col3</th>\n",
       "    </tr>\n",
       "  </thead>\n",
       "  <tbody>\n",
       "    <tr>\n",
       "      <th>A</th>\n",
       "      <td>0.269696</td>\n",
       "      <td>-1.211775</td>\n",
       "      <td>1.340391</td>\n",
       "    </tr>\n",
       "    <tr>\n",
       "      <th>B</th>\n",
       "      <td>1.114861</td>\n",
       "      <td>-0.534181</td>\n",
       "      <td>2.319593</td>\n",
       "    </tr>\n",
       "    <tr>\n",
       "      <th>C</th>\n",
       "      <td>-0.212656</td>\n",
       "      <td>1.905034</td>\n",
       "      <td>0.086947</td>\n",
       "    </tr>\n",
       "  </tbody>\n",
       "</table>\n",
       "</div>"
      ],
      "text/plain": [
       "       Col1      Col2      Col3\n",
       "A  0.269696 -1.211775  1.340391\n",
       "B  1.114861 -0.534181  2.319593\n",
       "C -0.212656  1.905034  0.086947"
      ]
     },
     "execution_count": 57,
     "metadata": {},
     "output_type": "execute_result"
    }
   ],
   "source": [
    "pd_df.loc[:,:]"
   ]
  },
  {
   "cell_type": "code",
   "execution_count": 60,
   "id": "d48fc973",
   "metadata": {},
   "outputs": [
    {
     "data": {
      "text/html": [
       "<div>\n",
       "<style scoped>\n",
       "    .dataframe tbody tr th:only-of-type {\n",
       "        vertical-align: middle;\n",
       "    }\n",
       "\n",
       "    .dataframe tbody tr th {\n",
       "        vertical-align: top;\n",
       "    }\n",
       "\n",
       "    .dataframe thead th {\n",
       "        text-align: right;\n",
       "    }\n",
       "</style>\n",
       "<table border=\"1\" class=\"dataframe\">\n",
       "  <thead>\n",
       "    <tr style=\"text-align: right;\">\n",
       "      <th></th>\n",
       "      <th>Col2</th>\n",
       "      <th>Col3</th>\n",
       "    </tr>\n",
       "  </thead>\n",
       "  <tbody>\n",
       "    <tr>\n",
       "      <th>A</th>\n",
       "      <td>-1.211775</td>\n",
       "      <td>1.340391</td>\n",
       "    </tr>\n",
       "    <tr>\n",
       "      <th>B</th>\n",
       "      <td>-0.534181</td>\n",
       "      <td>2.319593</td>\n",
       "    </tr>\n",
       "  </tbody>\n",
       "</table>\n",
       "</div>"
      ],
      "text/plain": [
       "       Col2      Col3\n",
       "A -1.211775  1.340391\n",
       "B -0.534181  2.319593"
      ]
     },
     "execution_count": 60,
     "metadata": {},
     "output_type": "execute_result"
    }
   ],
   "source": [
    "pd_df.iloc[0:2,1:3] # 0-1 satırındaki 1-2 kolonlarını göster."
   ]
  },
  {
   "cell_type": "code",
   "execution_count": 62,
   "id": "3d73d654",
   "metadata": {},
   "outputs": [
    {
     "data": {
      "text/html": [
       "<div>\n",
       "<style scoped>\n",
       "    .dataframe tbody tr th:only-of-type {\n",
       "        vertical-align: middle;\n",
       "    }\n",
       "\n",
       "    .dataframe tbody tr th {\n",
       "        vertical-align: top;\n",
       "    }\n",
       "\n",
       "    .dataframe thead th {\n",
       "        text-align: right;\n",
       "    }\n",
       "</style>\n",
       "<table border=\"1\" class=\"dataframe\">\n",
       "  <thead>\n",
       "    <tr style=\"text-align: right;\">\n",
       "      <th></th>\n",
       "      <th>Col2</th>\n",
       "    </tr>\n",
       "  </thead>\n",
       "  <tbody>\n",
       "    <tr>\n",
       "      <th>A</th>\n",
       "      <td>-1.211775</td>\n",
       "    </tr>\n",
       "    <tr>\n",
       "      <th>B</th>\n",
       "      <td>-0.534181</td>\n",
       "    </tr>\n",
       "    <tr>\n",
       "      <th>C</th>\n",
       "      <td>1.905034</td>\n",
       "    </tr>\n",
       "  </tbody>\n",
       "</table>\n",
       "</div>"
      ],
      "text/plain": [
       "       Col2\n",
       "A -1.211775\n",
       "B -0.534181\n",
       "C  1.905034"
      ]
     },
     "execution_count": 62,
     "metadata": {},
     "output_type": "execute_result"
    }
   ],
   "source": [
    "pd_df.iloc[:,[False,True,False]]"
   ]
  },
  {
   "cell_type": "code",
   "execution_count": 64,
   "id": "c58adebb",
   "metadata": {},
   "outputs": [
    {
     "data": {
      "text/html": [
       "<div>\n",
       "<style scoped>\n",
       "    .dataframe tbody tr th:only-of-type {\n",
       "        vertical-align: middle;\n",
       "    }\n",
       "\n",
       "    .dataframe tbody tr th {\n",
       "        vertical-align: top;\n",
       "    }\n",
       "\n",
       "    .dataframe thead th {\n",
       "        text-align: right;\n",
       "    }\n",
       "</style>\n",
       "<table border=\"1\" class=\"dataframe\">\n",
       "  <thead>\n",
       "    <tr style=\"text-align: right;\">\n",
       "      <th></th>\n",
       "      <th>Col2</th>\n",
       "    </tr>\n",
       "  </thead>\n",
       "  <tbody>\n",
       "    <tr>\n",
       "      <th>A</th>\n",
       "      <td>-1.211775</td>\n",
       "    </tr>\n",
       "    <tr>\n",
       "      <th>C</th>\n",
       "      <td>1.905034</td>\n",
       "    </tr>\n",
       "  </tbody>\n",
       "</table>\n",
       "</div>"
      ],
      "text/plain": [
       "       Col2\n",
       "A -1.211775\n",
       "C  1.905034"
      ]
     },
     "execution_count": 64,
     "metadata": {},
     "output_type": "execute_result"
    }
   ],
   "source": [
    "pd_df.iloc[[True,False,True],[False,True,False]]"
   ]
  },
  {
   "cell_type": "code",
   "execution_count": 65,
   "id": "5f9552bc",
   "metadata": {},
   "outputs": [
    {
     "data": {
      "text/html": [
       "<div>\n",
       "<style scoped>\n",
       "    .dataframe tbody tr th:only-of-type {\n",
       "        vertical-align: middle;\n",
       "    }\n",
       "\n",
       "    .dataframe tbody tr th {\n",
       "        vertical-align: top;\n",
       "    }\n",
       "\n",
       "    .dataframe thead th {\n",
       "        text-align: right;\n",
       "    }\n",
       "</style>\n",
       "<table border=\"1\" class=\"dataframe\">\n",
       "  <thead>\n",
       "    <tr style=\"text-align: right;\">\n",
       "      <th></th>\n",
       "      <th>Col1</th>\n",
       "      <th>Col3</th>\n",
       "    </tr>\n",
       "  </thead>\n",
       "  <tbody>\n",
       "    <tr>\n",
       "      <th>A</th>\n",
       "      <td>0.269696</td>\n",
       "      <td>1.340391</td>\n",
       "    </tr>\n",
       "    <tr>\n",
       "      <th>B</th>\n",
       "      <td>1.114861</td>\n",
       "      <td>2.319593</td>\n",
       "    </tr>\n",
       "    <tr>\n",
       "      <th>C</th>\n",
       "      <td>-0.212656</td>\n",
       "      <td>0.086947</td>\n",
       "    </tr>\n",
       "  </tbody>\n",
       "</table>\n",
       "</div>"
      ],
      "text/plain": [
       "       Col1      Col3\n",
       "A  0.269696  1.340391\n",
       "B  1.114861  2.319593\n",
       "C -0.212656  0.086947"
      ]
     },
     "execution_count": 65,
     "metadata": {},
     "output_type": "execute_result"
    }
   ],
   "source": [
    "pd_df.iloc[:,[0,2]] # tüm satılardaki 0 ve 2 indislik kolonları listele"
   ]
  },
  {
   "cell_type": "code",
   "execution_count": 68,
   "id": "efaf85e0",
   "metadata": {},
   "outputs": [
    {
     "data": {
      "text/html": [
       "<div>\n",
       "<style scoped>\n",
       "    .dataframe tbody tr th:only-of-type {\n",
       "        vertical-align: middle;\n",
       "    }\n",
       "\n",
       "    .dataframe tbody tr th {\n",
       "        vertical-align: top;\n",
       "    }\n",
       "\n",
       "    .dataframe thead th {\n",
       "        text-align: right;\n",
       "    }\n",
       "</style>\n",
       "<table border=\"1\" class=\"dataframe\">\n",
       "  <thead>\n",
       "    <tr style=\"text-align: right;\">\n",
       "      <th></th>\n",
       "      <th>Col1</th>\n",
       "      <th>Col2</th>\n",
       "    </tr>\n",
       "  </thead>\n",
       "  <tbody>\n",
       "    <tr>\n",
       "      <th>A</th>\n",
       "      <td>0.269696</td>\n",
       "      <td>-1.211775</td>\n",
       "    </tr>\n",
       "    <tr>\n",
       "      <th>B</th>\n",
       "      <td>1.114861</td>\n",
       "      <td>-0.534181</td>\n",
       "    </tr>\n",
       "    <tr>\n",
       "      <th>C</th>\n",
       "      <td>-0.212656</td>\n",
       "      <td>1.905034</td>\n",
       "    </tr>\n",
       "  </tbody>\n",
       "</table>\n",
       "</div>"
      ],
      "text/plain": [
       "       Col1      Col2\n",
       "A  0.269696 -1.211775\n",
       "B  1.114861 -0.534181\n",
       "C -0.212656  1.905034"
      ]
     },
     "execution_count": 68,
     "metadata": {},
     "output_type": "execute_result"
    }
   ],
   "source": [
    "pd_df.iloc[:,:2] # tüm satırlar için 0 ve 1 indisli kolonları getir."
   ]
  },
  {
   "cell_type": "code",
   "execution_count": 69,
   "id": "c2ce2093",
   "metadata": {},
   "outputs": [
    {
     "data": {
      "text/plain": [
       "0.08694674878301133"
      ]
     },
     "execution_count": 69,
     "metadata": {},
     "output_type": "execute_result"
    }
   ],
   "source": [
    "pd_df.iloc[2,2] # satır indisi:2 sütun indisi 2 olan hücredeki veriyi getir."
   ]
  },
  {
   "cell_type": "code",
   "execution_count": 70,
   "id": "2ed266f3",
   "metadata": {},
   "outputs": [
    {
     "data": {
      "text/html": [
       "<div>\n",
       "<style scoped>\n",
       "    .dataframe tbody tr th:only-of-type {\n",
       "        vertical-align: middle;\n",
       "    }\n",
       "\n",
       "    .dataframe tbody tr th {\n",
       "        vertical-align: top;\n",
       "    }\n",
       "\n",
       "    .dataframe thead th {\n",
       "        text-align: right;\n",
       "    }\n",
       "</style>\n",
       "<table border=\"1\" class=\"dataframe\">\n",
       "  <thead>\n",
       "    <tr style=\"text-align: right;\">\n",
       "      <th></th>\n",
       "      <th>Col1</th>\n",
       "      <th>Col2</th>\n",
       "      <th>Col3</th>\n",
       "    </tr>\n",
       "  </thead>\n",
       "  <tbody>\n",
       "    <tr>\n",
       "      <th>A</th>\n",
       "      <td>0.269696</td>\n",
       "      <td>-1.211775</td>\n",
       "      <td>1.340391</td>\n",
       "    </tr>\n",
       "    <tr>\n",
       "      <th>B</th>\n",
       "      <td>1.114861</td>\n",
       "      <td>-0.534181</td>\n",
       "      <td>2.319593</td>\n",
       "    </tr>\n",
       "    <tr>\n",
       "      <th>C</th>\n",
       "      <td>-0.212656</td>\n",
       "      <td>1.905034</td>\n",
       "      <td>0.086947</td>\n",
       "    </tr>\n",
       "  </tbody>\n",
       "</table>\n",
       "</div>"
      ],
      "text/plain": [
       "       Col1      Col2      Col3\n",
       "A  0.269696 -1.211775  1.340391\n",
       "B  1.114861 -0.534181  2.319593\n",
       "C -0.212656  1.905034  0.086947"
      ]
     },
     "execution_count": 70,
     "metadata": {},
     "output_type": "execute_result"
    }
   ],
   "source": [
    "pd_df"
   ]
  },
  {
   "cell_type": "code",
   "execution_count": 75,
   "id": "3613fcba",
   "metadata": {},
   "outputs": [
    {
     "data": {
      "text/html": [
       "<div>\n",
       "<style scoped>\n",
       "    .dataframe tbody tr th:only-of-type {\n",
       "        vertical-align: middle;\n",
       "    }\n",
       "\n",
       "    .dataframe tbody tr th {\n",
       "        vertical-align: top;\n",
       "    }\n",
       "\n",
       "    .dataframe thead th {\n",
       "        text-align: right;\n",
       "    }\n",
       "</style>\n",
       "<table border=\"1\" class=\"dataframe\">\n",
       "  <thead>\n",
       "    <tr style=\"text-align: right;\">\n",
       "      <th></th>\n",
       "      <th>Col2</th>\n",
       "      <th>Col3</th>\n",
       "    </tr>\n",
       "  </thead>\n",
       "  <tbody>\n",
       "    <tr>\n",
       "      <th>A</th>\n",
       "      <td>-1.211775</td>\n",
       "      <td>1.340391</td>\n",
       "    </tr>\n",
       "    <tr>\n",
       "      <th>C</th>\n",
       "      <td>1.905034</td>\n",
       "      <td>0.086947</td>\n",
       "    </tr>\n",
       "  </tbody>\n",
       "</table>\n",
       "</div>"
      ],
      "text/plain": [
       "       Col2      Col3\n",
       "A -1.211775  1.340391\n",
       "C  1.905034  0.086947"
      ]
     },
     "execution_count": 75,
     "metadata": {},
     "output_type": "execute_result"
    }
   ],
   "source": [
    "pd_df.loc[[\"A\",\"C\"],[\"Col2\",\"Col3\"]]"
   ]
  },
  {
   "cell_type": "code",
   "execution_count": 76,
   "id": "6c442fc8",
   "metadata": {},
   "outputs": [],
   "source": [
    "#Veri ekleme\n",
    "pd_df[\"Col4\"] = 100"
   ]
  },
  {
   "cell_type": "code",
   "execution_count": 77,
   "id": "ac61a91a",
   "metadata": {},
   "outputs": [
    {
     "data": {
      "text/html": [
       "<div>\n",
       "<style scoped>\n",
       "    .dataframe tbody tr th:only-of-type {\n",
       "        vertical-align: middle;\n",
       "    }\n",
       "\n",
       "    .dataframe tbody tr th {\n",
       "        vertical-align: top;\n",
       "    }\n",
       "\n",
       "    .dataframe thead th {\n",
       "        text-align: right;\n",
       "    }\n",
       "</style>\n",
       "<table border=\"1\" class=\"dataframe\">\n",
       "  <thead>\n",
       "    <tr style=\"text-align: right;\">\n",
       "      <th></th>\n",
       "      <th>Col1</th>\n",
       "      <th>Col2</th>\n",
       "      <th>Col3</th>\n",
       "      <th>Col4</th>\n",
       "    </tr>\n",
       "  </thead>\n",
       "  <tbody>\n",
       "    <tr>\n",
       "      <th>A</th>\n",
       "      <td>0.269696</td>\n",
       "      <td>-1.211775</td>\n",
       "      <td>1.340391</td>\n",
       "      <td>100</td>\n",
       "    </tr>\n",
       "    <tr>\n",
       "      <th>B</th>\n",
       "      <td>1.114861</td>\n",
       "      <td>-0.534181</td>\n",
       "      <td>2.319593</td>\n",
       "      <td>100</td>\n",
       "    </tr>\n",
       "    <tr>\n",
       "      <th>C</th>\n",
       "      <td>-0.212656</td>\n",
       "      <td>1.905034</td>\n",
       "      <td>0.086947</td>\n",
       "      <td>100</td>\n",
       "    </tr>\n",
       "  </tbody>\n",
       "</table>\n",
       "</div>"
      ],
      "text/plain": [
       "       Col1      Col2      Col3  Col4\n",
       "A  0.269696 -1.211775  1.340391   100\n",
       "B  1.114861 -0.534181  2.319593   100\n",
       "C -0.212656  1.905034  0.086947   100"
      ]
     },
     "execution_count": 77,
     "metadata": {},
     "output_type": "execute_result"
    }
   ],
   "source": [
    "pd_df"
   ]
  },
  {
   "cell_type": "code",
   "execution_count": 78,
   "id": "bc8711c6",
   "metadata": {},
   "outputs": [],
   "source": [
    "pd_df[\"Col5\"] = pd_df[\"Col1\"]+pd_df[\"Col3\"]"
   ]
  },
  {
   "cell_type": "code",
   "execution_count": 79,
   "id": "2a482d00",
   "metadata": {},
   "outputs": [
    {
     "data": {
      "text/html": [
       "<div>\n",
       "<style scoped>\n",
       "    .dataframe tbody tr th:only-of-type {\n",
       "        vertical-align: middle;\n",
       "    }\n",
       "\n",
       "    .dataframe tbody tr th {\n",
       "        vertical-align: top;\n",
       "    }\n",
       "\n",
       "    .dataframe thead th {\n",
       "        text-align: right;\n",
       "    }\n",
       "</style>\n",
       "<table border=\"1\" class=\"dataframe\">\n",
       "  <thead>\n",
       "    <tr style=\"text-align: right;\">\n",
       "      <th></th>\n",
       "      <th>Col1</th>\n",
       "      <th>Col2</th>\n",
       "      <th>Col3</th>\n",
       "      <th>Col4</th>\n",
       "      <th>Col5</th>\n",
       "    </tr>\n",
       "  </thead>\n",
       "  <tbody>\n",
       "    <tr>\n",
       "      <th>A</th>\n",
       "      <td>0.269696</td>\n",
       "      <td>-1.211775</td>\n",
       "      <td>1.340391</td>\n",
       "      <td>100</td>\n",
       "      <td>1.610086</td>\n",
       "    </tr>\n",
       "    <tr>\n",
       "      <th>B</th>\n",
       "      <td>1.114861</td>\n",
       "      <td>-0.534181</td>\n",
       "      <td>2.319593</td>\n",
       "      <td>100</td>\n",
       "      <td>3.434454</td>\n",
       "    </tr>\n",
       "    <tr>\n",
       "      <th>C</th>\n",
       "      <td>-0.212656</td>\n",
       "      <td>1.905034</td>\n",
       "      <td>0.086947</td>\n",
       "      <td>100</td>\n",
       "      <td>-0.125709</td>\n",
       "    </tr>\n",
       "  </tbody>\n",
       "</table>\n",
       "</div>"
      ],
      "text/plain": [
       "       Col1      Col2      Col3  Col4      Col5\n",
       "A  0.269696 -1.211775  1.340391   100  1.610086\n",
       "B  1.114861 -0.534181  2.319593   100  3.434454\n",
       "C -0.212656  1.905034  0.086947   100 -0.125709"
      ]
     },
     "execution_count": 79,
     "metadata": {},
     "output_type": "execute_result"
    }
   ],
   "source": [
    "pd_df"
   ]
  },
  {
   "cell_type": "code",
   "execution_count": 82,
   "id": "08d18dc5",
   "metadata": {},
   "outputs": [],
   "source": [
    "# Veri Silme: Dikey olarak silme\n",
    "pd_df_2 = pd_df.drop(\"Col3\",axis=1)"
   ]
  },
  {
   "cell_type": "code",
   "execution_count": 83,
   "id": "a6505839",
   "metadata": {},
   "outputs": [
    {
     "data": {
      "text/html": [
       "<div>\n",
       "<style scoped>\n",
       "    .dataframe tbody tr th:only-of-type {\n",
       "        vertical-align: middle;\n",
       "    }\n",
       "\n",
       "    .dataframe tbody tr th {\n",
       "        vertical-align: top;\n",
       "    }\n",
       "\n",
       "    .dataframe thead th {\n",
       "        text-align: right;\n",
       "    }\n",
       "</style>\n",
       "<table border=\"1\" class=\"dataframe\">\n",
       "  <thead>\n",
       "    <tr style=\"text-align: right;\">\n",
       "      <th></th>\n",
       "      <th>Col1</th>\n",
       "      <th>Col2</th>\n",
       "      <th>Col4</th>\n",
       "      <th>Col5</th>\n",
       "    </tr>\n",
       "  </thead>\n",
       "  <tbody>\n",
       "    <tr>\n",
       "      <th>A</th>\n",
       "      <td>0.269696</td>\n",
       "      <td>-1.211775</td>\n",
       "      <td>100</td>\n",
       "      <td>1.610086</td>\n",
       "    </tr>\n",
       "    <tr>\n",
       "      <th>B</th>\n",
       "      <td>1.114861</td>\n",
       "      <td>-0.534181</td>\n",
       "      <td>100</td>\n",
       "      <td>3.434454</td>\n",
       "    </tr>\n",
       "    <tr>\n",
       "      <th>C</th>\n",
       "      <td>-0.212656</td>\n",
       "      <td>1.905034</td>\n",
       "      <td>100</td>\n",
       "      <td>-0.125709</td>\n",
       "    </tr>\n",
       "  </tbody>\n",
       "</table>\n",
       "</div>"
      ],
      "text/plain": [
       "       Col1      Col2  Col4      Col5\n",
       "A  0.269696 -1.211775   100  1.610086\n",
       "B  1.114861 -0.534181   100  3.434454\n",
       "C -0.212656  1.905034   100 -0.125709"
      ]
     },
     "execution_count": 83,
     "metadata": {},
     "output_type": "execute_result"
    }
   ],
   "source": [
    "pd_df_2"
   ]
  },
  {
   "cell_type": "code",
   "execution_count": 84,
   "id": "a4a435c1",
   "metadata": {},
   "outputs": [
    {
     "data": {
      "text/html": [
       "<div>\n",
       "<style scoped>\n",
       "    .dataframe tbody tr th:only-of-type {\n",
       "        vertical-align: middle;\n",
       "    }\n",
       "\n",
       "    .dataframe tbody tr th {\n",
       "        vertical-align: top;\n",
       "    }\n",
       "\n",
       "    .dataframe thead th {\n",
       "        text-align: right;\n",
       "    }\n",
       "</style>\n",
       "<table border=\"1\" class=\"dataframe\">\n",
       "  <thead>\n",
       "    <tr style=\"text-align: right;\">\n",
       "      <th></th>\n",
       "      <th>Col1</th>\n",
       "      <th>Col2</th>\n",
       "      <th>Col3</th>\n",
       "      <th>Col4</th>\n",
       "      <th>Col5</th>\n",
       "    </tr>\n",
       "  </thead>\n",
       "  <tbody>\n",
       "    <tr>\n",
       "      <th>A</th>\n",
       "      <td>0.269696</td>\n",
       "      <td>-1.211775</td>\n",
       "      <td>1.340391</td>\n",
       "      <td>100</td>\n",
       "      <td>1.610086</td>\n",
       "    </tr>\n",
       "    <tr>\n",
       "      <th>B</th>\n",
       "      <td>1.114861</td>\n",
       "      <td>-0.534181</td>\n",
       "      <td>2.319593</td>\n",
       "      <td>100</td>\n",
       "      <td>3.434454</td>\n",
       "    </tr>\n",
       "    <tr>\n",
       "      <th>C</th>\n",
       "      <td>-0.212656</td>\n",
       "      <td>1.905034</td>\n",
       "      <td>0.086947</td>\n",
       "      <td>100</td>\n",
       "      <td>-0.125709</td>\n",
       "    </tr>\n",
       "  </tbody>\n",
       "</table>\n",
       "</div>"
      ],
      "text/plain": [
       "       Col1      Col2      Col3  Col4      Col5\n",
       "A  0.269696 -1.211775  1.340391   100  1.610086\n",
       "B  1.114861 -0.534181  2.319593   100  3.434454\n",
       "C -0.212656  1.905034  0.086947   100 -0.125709"
      ]
     },
     "execution_count": 84,
     "metadata": {},
     "output_type": "execute_result"
    }
   ],
   "source": [
    "pd_df"
   ]
  },
  {
   "cell_type": "code",
   "execution_count": 88,
   "id": "e229649a",
   "metadata": {},
   "outputs": [],
   "source": [
    "# Veri Silme: Dikey olarak silme: inplace yapılan değişikliği kaynak tabloya kaydeder.\n",
    "pd_df_2 = pd_df.drop(\"Col3\",axis=1,inplace=True)\n",
    "pd_df_2 = pd_df.drop(\"Col1\",axis=1,inplace=True)"
   ]
  },
  {
   "cell_type": "code",
   "execution_count": 89,
   "id": "9f170a4e",
   "metadata": {},
   "outputs": [
    {
     "data": {
      "text/html": [
       "<div>\n",
       "<style scoped>\n",
       "    .dataframe tbody tr th:only-of-type {\n",
       "        vertical-align: middle;\n",
       "    }\n",
       "\n",
       "    .dataframe tbody tr th {\n",
       "        vertical-align: top;\n",
       "    }\n",
       "\n",
       "    .dataframe thead th {\n",
       "        text-align: right;\n",
       "    }\n",
       "</style>\n",
       "<table border=\"1\" class=\"dataframe\">\n",
       "  <thead>\n",
       "    <tr style=\"text-align: right;\">\n",
       "      <th></th>\n",
       "      <th>Col2</th>\n",
       "      <th>Col4</th>\n",
       "      <th>Col5</th>\n",
       "    </tr>\n",
       "  </thead>\n",
       "  <tbody>\n",
       "    <tr>\n",
       "      <th>A</th>\n",
       "      <td>-1.211775</td>\n",
       "      <td>100</td>\n",
       "      <td>1.610086</td>\n",
       "    </tr>\n",
       "    <tr>\n",
       "      <th>B</th>\n",
       "      <td>-0.534181</td>\n",
       "      <td>100</td>\n",
       "      <td>3.434454</td>\n",
       "    </tr>\n",
       "    <tr>\n",
       "      <th>C</th>\n",
       "      <td>1.905034</td>\n",
       "      <td>100</td>\n",
       "      <td>-0.125709</td>\n",
       "    </tr>\n",
       "  </tbody>\n",
       "</table>\n",
       "</div>"
      ],
      "text/plain": [
       "       Col2  Col4      Col5\n",
       "A -1.211775   100  1.610086\n",
       "B -0.534181   100  3.434454\n",
       "C  1.905034   100 -0.125709"
      ]
     },
     "execution_count": 89,
     "metadata": {},
     "output_type": "execute_result"
    }
   ],
   "source": [
    "pd_df"
   ]
  },
  {
   "cell_type": "code",
   "execution_count": 95,
   "id": "ca05617b",
   "metadata": {},
   "outputs": [],
   "source": [
    "pd_df.drop(\"A\",axis=0,inplace=True) # A satırını sil\n",
    "pd_df.drop(\"B\",axis=0,inplace=True) # B satırını sil"
   ]
  },
  {
   "cell_type": "code",
   "execution_count": 96,
   "id": "0e50d9d2",
   "metadata": {},
   "outputs": [
    {
     "data": {
      "text/html": [
       "<div>\n",
       "<style scoped>\n",
       "    .dataframe tbody tr th:only-of-type {\n",
       "        vertical-align: middle;\n",
       "    }\n",
       "\n",
       "    .dataframe tbody tr th {\n",
       "        vertical-align: top;\n",
       "    }\n",
       "\n",
       "    .dataframe thead th {\n",
       "        text-align: right;\n",
       "    }\n",
       "</style>\n",
       "<table border=\"1\" class=\"dataframe\">\n",
       "  <thead>\n",
       "    <tr style=\"text-align: right;\">\n",
       "      <th></th>\n",
       "      <th>Col2</th>\n",
       "      <th>Col4</th>\n",
       "      <th>Col5</th>\n",
       "    </tr>\n",
       "  </thead>\n",
       "  <tbody>\n",
       "    <tr>\n",
       "      <th>C</th>\n",
       "      <td>1.905034</td>\n",
       "      <td>100</td>\n",
       "      <td>-0.125709</td>\n",
       "    </tr>\n",
       "  </tbody>\n",
       "</table>\n",
       "</div>"
      ],
      "text/plain": [
       "       Col2  Col4      Col5\n",
       "C  1.905034   100 -0.125709"
      ]
     },
     "execution_count": 96,
     "metadata": {},
     "output_type": "execute_result"
    }
   ],
   "source": [
    "pd_df"
   ]
  },
  {
   "cell_type": "code",
   "execution_count": null,
   "id": "8e11eb42",
   "metadata": {},
   "outputs": [],
   "source": []
  }
 ],
 "metadata": {
  "kernelspec": {
   "display_name": "Python 3 (ipykernel)",
   "language": "python",
   "name": "python3"
  },
  "language_info": {
   "codemirror_mode": {
    "name": "ipython",
    "version": 3
   },
   "file_extension": ".py",
   "mimetype": "text/x-python",
   "name": "python",
   "nbconvert_exporter": "python",
   "pygments_lexer": "ipython3",
   "version": "3.10.4"
  }
 },
 "nbformat": 4,
 "nbformat_minor": 5
}
