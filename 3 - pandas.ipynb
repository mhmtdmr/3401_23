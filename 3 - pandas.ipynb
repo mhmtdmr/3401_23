{
 "cells": [
  {
   "cell_type": "code",
   "execution_count": 2,
   "id": "bb594d47",
   "metadata": {},
   "outputs": [],
   "source": [
    "import pandas as pd\n",
    "import numpy as np"
   ]
  },
  {
   "cell_type": "code",
   "execution_count": 3,
   "id": "728cb58f",
   "metadata": {},
   "outputs": [],
   "source": [
    "letters = [\"a\",\"b\",\"c\",\"d\",\"e\"]\n",
    "numbers = [10,20,30,40,50]"
   ]
  },
  {
   "cell_type": "code",
   "execution_count": 4,
   "id": "86947605",
   "metadata": {},
   "outputs": [
    {
     "name": "stdout",
     "output_type": "stream",
     "text": [
      "0    10\n",
      "1    20\n",
      "2    30\n",
      "3    40\n",
      "4    50\n",
      "dtype: int64\n"
     ]
    }
   ],
   "source": [
    "pd_series1 = pd.Series(numbers)\n",
    "print(pd_series1)"
   ]
  },
  {
   "cell_type": "code",
   "execution_count": 5,
   "id": "c9eecaa5",
   "metadata": {},
   "outputs": [
    {
     "name": "stdout",
     "output_type": "stream",
     "text": [
      "0    a\n",
      "1    b\n",
      "2    c\n",
      "3    d\n",
      "4    e\n",
      "dtype: object\n"
     ]
    }
   ],
   "source": [
    "pd_series2 = pd.Series(letters)\n",
    "print(pd_series2)"
   ]
  },
  {
   "cell_type": "code",
   "execution_count": 6,
   "id": "ac908ad2",
   "metadata": {},
   "outputs": [
    {
     "name": "stdout",
     "output_type": "stream",
     "text": [
      "10    a\n",
      "20    b\n",
      "30    c\n",
      "40    d\n",
      "50    e\n",
      "dtype: object\n"
     ]
    }
   ],
   "source": [
    "pd_series3 = pd.Series(letters,index=numbers)\n",
    "print(pd_series3)"
   ]
  },
  {
   "cell_type": "code",
   "execution_count": 7,
   "id": "d22e7d89",
   "metadata": {},
   "outputs": [
    {
     "name": "stdout",
     "output_type": "stream",
     "text": [
      "0    27\n",
      "dtype: int64\n"
     ]
    }
   ],
   "source": [
    "pd_series4 = pd.Series(27)\n",
    "print(pd_series4)"
   ]
  },
  {
   "cell_type": "code",
   "execution_count": 8,
   "id": "d2976558",
   "metadata": {},
   "outputs": [
    {
     "name": "stdout",
     "output_type": "stream",
     "text": [
      "1    27\n",
      "2    27\n",
      "3    27\n",
      "4    27\n",
      "5    27\n",
      "dtype: int64\n"
     ]
    }
   ],
   "source": [
    "pd_series5 = pd.Series(27,index=[1,2,3,4,5])\n",
    "print(pd_series5)"
   ]
  },
  {
   "cell_type": "code",
   "execution_count": 9,
   "id": "e624b451",
   "metadata": {},
   "outputs": [
    {
     "name": "stdout",
     "output_type": "stream",
     "text": [
      "Ahmet      100\n",
      "Mustafa     85\n",
      "Uğur       105\n",
      "Aysun       75\n",
      "dtype: int64\n"
     ]
    }
   ],
   "source": [
    "dictionary = {\"Ahmet\":100,\"Mustafa\":85,\"Uğur\":105,\"Aysun\":75}\n",
    "pd_series6 = pd.Series(dictionary)\n",
    "print(pd_series6)"
   ]
  },
  {
   "cell_type": "code",
   "execution_count": 15,
   "id": "321dcff7",
   "metadata": {},
   "outputs": [
    {
     "name": "stdout",
     "output_type": "stream",
     "text": [
      "1\n",
      "int64\n",
      "(4,)\n",
      "365\n",
      "75\n",
      "105\n",
      "91.25\n"
     ]
    }
   ],
   "source": [
    "print(pd_series6.ndim) # boyut sayısı\n",
    "print(pd_series6.dtype) # veri tipi\n",
    "print(pd_series6.shape) # kaça kaç\n",
    "print(pd_series6.sum()) # toplam\n",
    "print(pd_series6.min()) # en küçük değer\n",
    "print(pd_series6.max()) # en büyük değer\n",
    "print(pd_series6.mean()) # ortalama"
   ]
  },
  {
   "cell_type": "code",
   "execution_count": 22,
   "id": "e4c4f722",
   "metadata": {},
   "outputs": [
    {
     "name": "stdout",
     "output_type": "stream",
     "text": [
      "0    1\n",
      "1    2\n",
      "2    3\n",
      "3    4\n",
      "4    5\n",
      "dtype: int64\n",
      "0     1\n",
      "1     4\n",
      "2     9\n",
      "3    16\n",
      "4    25\n",
      "dtype: int64\n",
      "0    1.000000\n",
      "1    1.414214\n",
      "2    1.732051\n",
      "3    2.000000\n",
      "4    2.236068\n",
      "dtype: float64\n",
      "0      1\n",
      "1     16\n",
      "2     81\n",
      "3    256\n",
      "4    625\n",
      "dtype: int64\n"
     ]
    }
   ],
   "source": [
    "pd_series7 = pd.Series([1,2,3,4,5])\n",
    "print(pd_series7) # listeyi yazdır.\n",
    "print(np.square(pd_series7)) # kareleri yazdır\n",
    "print(np.sqrt(pd_series7)) # karekökleri yazdır\n",
    "print(np.power(pd_series7,4)) # 4. kuvvetlerini yazdır"
   ]
  },
  {
   "cell_type": "code",
   "execution_count": 23,
   "id": "48677142",
   "metadata": {},
   "outputs": [
    {
     "name": "stdout",
     "output_type": "stream",
     "text": [
      "270\n"
     ]
    }
   ],
   "source": [
    "opel2020 = pd.Series([145,45,35],[\"astra\",\"insignia\",\"mokka\"])\n",
    "opel2021 = pd.Series([125,55,55],[\"astra\",\"insignia\",\"mokka\"])\n",
    "\n",
    "total = opel2020 + opel2021\n",
    "print(total[\"astra\"])"
   ]
  },
  {
   "cell_type": "code",
   "execution_count": null,
   "id": "0007558a",
   "metadata": {},
   "outputs": [],
   "source": []
  }
 ],
 "metadata": {
  "kernelspec": {
   "display_name": "Python 3 (ipykernel)",
   "language": "python",
   "name": "python3"
  },
  "language_info": {
   "codemirror_mode": {
    "name": "ipython",
    "version": 3
   },
   "file_extension": ".py",
   "mimetype": "text/x-python",
   "name": "python",
   "nbconvert_exporter": "python",
   "pygments_lexer": "ipython3",
   "version": "3.10.4"
  }
 },
 "nbformat": 4,
 "nbformat_minor": 5
}
